{
 "cells": [
  {
   "cell_type": "code",
   "execution_count": 22,
   "metadata": {},
   "outputs": [
    {
     "name": "stdout",
     "output_type": "stream",
     "text": [
      "0.5%  100/19448it  est: 517.2s  37.406it/s  record lenth: 0\n",
      "1.0%  200/19448it  est: 443.5s  43.398it/s  record lenth: 0\n",
      "1.5%  300/19448it  est: 423.1s  45.258it/s  record lenth: 0\n",
      "2.1%  400/19448it  est: 422.6s  45.078it/s  record lenth: 0\n",
      "2.6%  500/19448it  est: 423.2s  44.771it/s  record lenth: 0\n",
      "3.1%  600/19448it  est: 411.6s  45.797it/s  record lenth: 0\n",
      "3.6%  700/19448it  est: 404.6s  46.338it/s  record lenth: 0\n",
      "4.1%  800/19448it  est: 398.5s  46.801it/s  record lenth: 0\n",
      "4.6%  900/19448it  est: 392.7s  47.227it/s  record lenth: 0\n",
      "5.1%  1000/19448it  est: 390.3s  47.261it/s  record lenth: 0\n",
      "5.7%  1100/19448it  est: 390.8s  46.95it/s  record lenth: 3\n",
      "6.2%  1200/19448it  est: 392.2s  46.531it/s  record lenth: 3\n",
      "6.7%  1300/19448it  est: 395.0s  45.95it/s  record lenth: 3\n",
      "7.2%  1400/19448it  est: 395.6s  45.618it/s  record lenth: 3\n",
      "7.7%  1500/19448it  est: 392.5s  45.725it/s  record lenth: 3\n",
      "8.2%  1600/19448it  est: 389.8s  45.782it/s  record lenth: 3\n",
      "8.7%  1700/19448it  est: 388.6s  45.674it/s  record lenth: 3\n",
      "9.3%  1800/19448it  est: 388.1s  45.474it/s  record lenth: 4\n",
      "9.8%  1900/19448it  est: 387.0s  45.345it/s  record lenth: 5\n",
      "10.3%  2000/19448it  est: 385.8s  45.225it/s  record lenth: 5\n",
      "10.8%  2100/19448it  est: 384.5s  45.114it/s  record lenth: 5\n",
      "11.3%  2200/19448it  est: 383.0s  45.035it/s  record lenth: 5\n",
      "11.8%  2300/19448it  est: 381.9s  44.896it/s  record lenth: 5\n",
      "12.3%  2400/19448it  est: 379.4s  44.937it/s  record lenth: 5\n",
      "12.9%  2500/19448it  est: 377.5s  44.895it/s  record lenth: 5\n",
      "13.4%  2600/19448it  est: 375.1s  44.916it/s  record lenth: 5\n",
      "13.9%  2700/19448it  est: 374.6s  44.707it/s  record lenth: 5\n"
     ]
    }
   ],
   "source": [
    "from math import comb\n",
    "from time import time\n",
    "from itertools import combinations, permutations\n",
    "from numpy import double, matrix\n",
    "import numpy\n",
    "from sympy import Matrix\n",
    "from IPython.display import clear_output\n",
    "\n",
    "m = []\n",
    "total_food = 24\n",
    "with open(\"nutrition.txt\", 'r') as f:\n",
    "    for _ in range(7):\n",
    "        line = f.readline()\n",
    "        line = line[:-1]\n",
    "        t = line.split('\\t')\n",
    "        for i in range(len(t)):\n",
    "            t[i] = double(t[i])\n",
    "        m.append(t)\n",
    "\n",
    "m = numpy.array(m)\n",
    "index = 7\n",
    "m = m[:,index:]\n",
    "total_food -= index\n",
    "m = m.transpose() \n",
    "record = []\n",
    "orders = combinations(range(total_food), 7)\n",
    "iter = 0\n",
    "total_times = comb(total_food, 7)\n",
    "total_time = 0.\n",
    "start = time()\n",
    "for i in orders:\n",
    "    iter += 1\n",
    "    if iter % 100 == 0:\n",
    "        total_time = time() - start\n",
    "        est = iter / total_time\n",
    "        est = (total_times - iter) / est\n",
    "        print(f\"{round(iter/total_times*100, 1)}%  {iter}/{total_times}it  est: {round(est,1)}s  {round(iter/total_time,3)}it/s  record lenth: {len(record)}\")\n",
    "        \n",
    "        \n",
    "    matrix = numpy.zeros((8,7))\n",
    "    t = 0\n",
    "    for j in i:\n",
    "        matrix[t,:] = m[j,:]\n",
    "        t += 1\n",
    "    \n",
    "    matrix[7,:] = m[total_food,:]\n",
    "    matrix = matrix.transpose()\n",
    "    matrix = Matrix(matrix)\n",
    "    result = matrix.rref()\n",
    "    piviot = result[1]\n",
    "    result = result[0].T[7,:]\n",
    "    result = result.tolist()[0]\n",
    "    check = True\n",
    "    for k in range(len(result)):\n",
    "        result[k] = round(result[k], 5)\n",
    "        if result[k] <0 : check = False\n",
    "        \n",
    "    if check and piviot == (0,1,2,3,4,5,6):\n",
    "        position = list(i)\n",
    "        position = [i + index for i in position]\n",
    "        record.append((position,result))\n",
    "    \n",
    "        \n"
   ]
  },
  {
   "cell_type": "code",
   "execution_count": 209,
   "metadata": {},
   "outputs": [],
   "source": [
    "def dump_result(a):\n",
    "    with open(\"results.txt\", 'w') as f:\n",
    "        for i in a:\n",
    "            f.write(f\"position(start from 0): {str(i[0])}, results: {str(i[1])}\")  \n",
    "            f.write(\"\\n\")\n",
    "            \n",
    "dump_result(record)"
   ]
  },
  {
   "cell_type": "code",
   "execution_count": 20,
   "metadata": {},
   "outputs": [
    {
     "name": "stdout",
     "output_type": "stream",
     "text": [
      "['Tomato Sauce', 'Caesar Salad Sauce', 'Béchamel Sauce', 'Hot Sauce', 'Barbeque Sauce', 'Old Dry Mother', 'Cocktail Sauce', 'Mayonnaise', 'Black Pepper Sauce', 'Melinda red Savina pepper sauce', 'Coke', 'Tree Fern', 'Sea Cucumber', 'Pizza', 'Rice Paper', 'Water Convolvulus', 'Water', 'Cactus', 'Vodka', 'Marshmallow', 'Cocoa', 'Sea Lion Meat', 'Shark', 'Cannabis Seed']\n"
     ]
    }
   ],
   "source": [
    "items = \"Tomato Sauce\tCaesar Salad Sauce\tBéchamel Sauce\tHot Sauce\tBarbeque Sauce\tOld Dry Mother\tCocktail Sauce\tMayonnaise\tBlack Pepper Sauce\tMelinda red Savina pepper sauce\tCoke\tTree Fern\tSea Cucumber\tPizza\tRice Paper\tWater Convolvulus\tWater\tCactus\tVodka\tMarshmallow\tCocoa\tSea Lion Meat\tShark\tCannabis Seed\"\n",
    "items = items.split(\"\\t\")\n",
    "print(items)\n",
    "count = 0\n",
    "\n",
    "for i in record:\n",
    "    count += 1\n",
    "    print(f\"Diet #{count}\")\n",
    "    for name, amount in zip(i[0], i[1]):\n",
    "        print(f\"{items[name]:.<40}{amount * 100} grams\")"
   ]
  },
  {
   "cell_type": "code",
   "execution_count": 6,
   "metadata": {},
   "outputs": [
    {
     "name": "stdout",
     "output_type": "stream",
     "text": [
      "[8, 9, 10, 11, 15, 19, 22]\n"
     ]
    }
   ],
   "source": []
  }
 ],
 "metadata": {
  "kernelspec": {
   "display_name": "Python 3.8.5 ('base')",
   "language": "python",
   "name": "python3"
  },
  "language_info": {
   "codemirror_mode": {
    "name": "ipython",
    "version": 3
   },
   "file_extension": ".py",
   "mimetype": "text/x-python",
   "name": "python",
   "nbconvert_exporter": "python",
   "pygments_lexer": "ipython3",
   "version": "3.8.5"
  },
  "orig_nbformat": 4,
  "vscode": {
   "interpreter": {
    "hash": "955ae5569d7f6b21f76179502718ef7ff333264324dbccf3f205cc8e66720dac"
   }
  }
 },
 "nbformat": 4,
 "nbformat_minor": 2
}
