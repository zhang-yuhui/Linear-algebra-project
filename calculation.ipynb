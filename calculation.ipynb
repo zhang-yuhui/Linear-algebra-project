{
 "cells": [
  {
   "cell_type": "code",
   "execution_count": 11,
   "metadata": {},
   "outputs": [],
   "source": [
    "from fatsecret import Fatsecret\n"
   ]
  },
  {
   "cell_type": "code",
   "execution_count": 13,
   "metadata": {},
   "outputs": [],
   "source": [
    "CONSUMER_KEY = \"ae49a74618324e26a4b0823388db3771\"\n",
    "CONSUMER_SECRET = \"571a60e3a9f6422f98cf86936998a4a6\""
   ]
  },
  {
   "cell_type": "code",
   "execution_count": 17,
   "metadata": {},
   "outputs": [],
   "source": [
    "fs = Fatsecret(CONSUMER_KEY, CONSUMER_SECRET)\n",
    "#fs.food_get(\"40713\")\n",
    "def get_food_id(name):\n",
    "    id = fs.foods_search(name)\n",
    "    return {i['food_id']:i['food_name'] for i in id}\n",
    "    \n",
    "def get_nutrient(food_id):\n",
    "    detail = fs.food_get(food_id)\n",
    "    return [ i for i in detail[\"servings\"][\"serving\"] if i['measurement_description']=='g'][0]\n",
    "    "
   ]
  },
  {
   "cell_type": "code",
   "execution_count": null,
   "metadata": {},
   "outputs": [],
   "source": [
    "get_nutrient(\"40713\")"
   ]
  },
  {
   "cell_type": "code",
   "execution_count": null,
   "metadata": {},
   "outputs": [],
   "source": [
    "fs.food_get(\"40713\")"
   ]
  },
  {
   "cell_type": "code",
   "execution_count": null,
   "metadata": {},
   "outputs": [],
   "source": [
    "'''\n",
    "calories 3000\n",
    "potassium 4000mg\n",
    "calcium 1000mg\n",
    "magesimunm 380mg\n",
    "sodium 1500mg\n",
    "fat 85g\n",
    "vitamin C 90mg\n",
    "'''\n"
   ]
  },
  {
   "cell_type": "code",
   "execution_count": 24,
   "metadata": {},
   "outputs": [
    {
     "data": {
      "text/plain": [
       "(Matrix([\n",
       " [1, 0, -2],\n",
       " [0, 1,  1],\n",
       " [0, 0,  0]]),\n",
       " (0, 1))"
      ]
     },
     "execution_count": 24,
     "metadata": {},
     "output_type": "execute_result"
    }
   ],
   "source": [
    "\n",
    "\n",
    "import sympy\n",
    "m = sympy.Matrix([[1,4,2],\n",
    "                 [2,5,1],\n",
    "                 [3,6,0]])\n",
    "m.rref()"
   ]
  },
  {
   "cell_type": "code",
   "execution_count": 31,
   "metadata": {},
   "outputs": [
    {
     "name": "stdout",
     "output_type": "stream",
     "text": [
      "[[2.90000000e+01 4.40000000e+01 1.04000000e+02 1.10000000e+01\n",
      "  1.72000000e+02 7.00000000e+02 1.24000000e+02 6.79000000e+02\n",
      "  2.46376812e+02 0.00000000e+00 3.00000000e+03]\n",
      " [3.31000000e+02 2.16000000e+02 1.63000000e+02 1.44000000e+02\n",
      "  2.32000000e+02 3.40000000e+02 3.09000000e+02 2.00000000e+01\n",
      "  1.32898551e+03 0.00000000e+00 4.00000000e+03]\n",
      " [1.30000000e+01 8.60000000e+01 1.26000000e+02 8.00000000e+00\n",
      "  3.30000000e+01 2.33330000e+01 2.60000000e+01 8.00000000e+00\n",
      "  4.43478261e+02 0.00000000e+00 1.00000000e+03]\n",
      " [4.00000000e+00 9.00000000e+00 1.50000000e+01 5.00000000e+00\n",
      "  1.30000000e+01 0.00000000e+00 1.70000000e+01 1.00000000e+00\n",
      "  1.71014493e+02 0.00000000e+00 3.80000000e+02]\n",
      " [1.10000000e+01 8.30000000e+01 3.28000000e+02 2.64300000e+03\n",
      "  1.02700000e+03 9.33333000e+02 9.83000000e+02 6.35000000e+02\n",
      "  2.00000000e+01 3.00000000e+03 1.50000000e+03]\n",
      " [2.00000000e-01 2.10000000e+00 7.00000000e+00 4.00000000e-01\n",
      "  6.00000000e-01 7.00000000e+01 1.10000000e+00 7.50000000e+01\n",
      "  2.89855073e+00 0.00000000e+00 8.50000000e+01]\n",
      " [9.90000000e+00 1.41000000e+01 8.00000000e-01 7.48000000e+01\n",
      "  6.00000000e-01 0.00000000e+00 1.16000000e+01 0.00000000e+00\n",
      "  0.00000000e+00 0.00000000e+00 9.00000000e+00]]\n",
      "[ 44.  216.   86.    9.   83.    2.1  14.1]\n"
     ]
    }
   ],
   "source": [
    "from itertools import combinations, permutations\n",
    "from numpy import double\n",
    "import numpy\n",
    "\n",
    "\n",
    "m = []\n",
    "with open(\"nutrition1.txt\", 'r') as f:\n",
    "    for _ in range(7):\n",
    "        line = f.readline()\n",
    "        line = line[:-1]\n",
    "        t = line.split('\\t')\n",
    "        for i in range(len(t)):\n",
    "            t[i] = double(t[i])\n",
    "        m.append(t)\n",
    "m = numpy.array(m)\n",
    "print(m)        \n",
    "order = combinations(range(10), 7)\n",
    "print(m[:,1])\n"
   ]
  },
  {
   "cell_type": "code",
   "execution_count": 27,
   "metadata": {},
   "outputs": [
    {
     "data": {
      "text/plain": [
       "(Matrix([\n",
       " [1, 0, 0, 0, 0, 0, 0,  -2.09988458848973,  -7.18835786456457,   4.09326095849824, -29.9415056877076],\n",
       " [0, 1, 0, 0, 0, 0, 0,   1.41286373243243,   5.09393746115984,  -8.25313888244017,  41.4193182028207],\n",
       " [0, 0, 1, 0, 0, 0, 0, -0.895958651539973, 0.0185496718770923,   5.43201731705921, -22.4816403838885],\n",
       " [0, 0, 0, 1, 0, 0, 0, -0.204093339299516,  -2.63791033915237,   1.35329614604599, -8.88635327186541],\n",
       " [0, 0, 0, 0, 1, 0, 0,  -1.11800410530349,  -10.0115670247503,   1.09092066310023, -6.89373402311582],\n",
       " [0, 0, 0, 0, 0, 1, 0,   1.11165167849323, -0.266363030962579, -0.283230286675851,  1.86226569225776],\n",
       " [0, 0, 0, 0, 0, 0, 1,   1.51045085885939,   17.4696567674812,  -2.61902958814427,  35.1921807849179]]),\n",
       " (0, 1, 2, 3, 4, 5, 6))"
      ]
     },
     "execution_count": 27,
     "metadata": {},
     "output_type": "execute_result"
    }
   ],
   "source": [
    "m = sympy.Matrix(m)\n",
    "m.rref()\n"
   ]
  },
  {
   "cell_type": "code",
   "execution_count": null,
   "metadata": {},
   "outputs": [],
   "source": [
    "a = [[]]\n",
    "zip()"
   ]
  }
 ],
 "metadata": {
  "kernelspec": {
   "display_name": "Python 3.9.10",
   "language": "python",
   "name": "python3"
  },
  "language_info": {
   "codemirror_mode": {
    "name": "ipython",
    "version": 3
   },
   "file_extension": ".py",
   "mimetype": "text/x-python",
   "name": "python",
   "nbconvert_exporter": "python",
   "pygments_lexer": "ipython3",
   "version": "3.9.10"
  },
  "orig_nbformat": 4,
  "vscode": {
   "interpreter": {
    "hash": "10527f4c6cc3e19e16375b6ca6083c24e0edf53abb986d7a3bcdb7b62fdb9492"
   }
  }
 },
 "nbformat": 4,
 "nbformat_minor": 2
}
