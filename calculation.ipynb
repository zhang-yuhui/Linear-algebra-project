{
 "cells": [
  {
   "cell_type": "code",
   "execution_count": null,
   "metadata": {},
   "outputs": [],
   "source": [
    "from math import comb\n",
    "from time import time\n",
    "from itertools import combinations, permutations\n",
    "from numpy import double, matrix\n",
    "import numpy\n",
    "from sympy import Matrix\n",
    "from IPython.display import clear_output\n",
    "\n",
    "m = []\n",
    "total_food = 24\n",
    "with open(\"nutrition1.txt\", 'r') as f:\n",
    "    for _ in range(7):\n",
    "        line = f.readline()\n",
    "        line = line[:-1]\n",
    "        t = line.split('\\t')\n",
    "        for i in range(len(t)):\n",
    "            t[i] = double(t[i])\n",
    "        m.append(t)\n",
    "\n",
    "m = numpy.array(m)\n",
    "index = 7\n",
    "m = m[:,index:]\n",
    "total_food -= index\n",
    "m = m.transpose() \n",
    "record = []\n",
    "orders = combinations(range(total_food), 7)\n",
    "iter = 0\n",
    "total_times = comb(total_food, 7)\n",
    "total_time = 0.\n",
    "start = time()\n",
    "for i in orders:\n",
    "    iter += 1\n",
    "    if iter % 100 == 0:\n",
    "        total_time = time() - start\n",
    "        est = iter / total_time\n",
    "        est = (total_times - iter) / est\n",
    "        print(f\"{round(iter/total_times*100, 1)}%  {iter}/{total_times}it  est: {round(est,1)}s  {round(iter/total_time,3)}it/s  record lenth: {len(record)}\")\n",
    "        \n",
    "        \n",
    "    matrix = numpy.zeros((8,7))\n",
    "    t = 0\n",
    "    for j in i:\n",
    "        matrix[t,:] = m[j,:]\n",
    "        t += 1\n",
    "    \n",
    "    matrix[7,:] = m[total_food,:]\n",
    "    matrix = matrix.transpose()\n",
    "    matrix = Matrix(matrix)\n",
    "    result = matrix.rref()\n",
    "    piviot = result[1]\n",
    "    result = result[0].T[7,:]\n",
    "    result = result.tolist()[0]\n",
    "    check = True\n",
    "    for k in range(len(result)):\n",
    "        result[k] = round(result[k], 5)\n",
    "        if result[k] <0 : check = False\n",
    "        \n",
    "    if check and piviot == (0,1,2,3,4,5,6):\n",
    "        position = list(i)\n",
    "        position = [i + index for i in position]\n",
    "        record.append((position,result))\n",
    "    \n",
    "        \n"
   ]
  },
  {
   "cell_type": "code",
   "execution_count": 203,
   "metadata": {},
   "outputs": [],
   "source": [
    "def dump_result(a):\n",
    "    with open(\"results.txt\", 'w') as f:\n",
    "        for i in a:\n",
    "            f.write(f\"position(start from 0): {str(i[0])}, results: {str(i[1])}\")  \n",
    "            f.write(\"\\n\")\n",
    "            \n",
    "dump_result(record)"
   ]
  }
 ],
 "metadata": {
  "kernelspec": {
   "display_name": "Python 3.9.10",
   "language": "python",
   "name": "python3"
  },
  "language_info": {
   "codemirror_mode": {
    "name": "ipython",
    "version": 3
   },
   "file_extension": ".py",
   "mimetype": "text/x-python",
   "name": "python",
   "nbconvert_exporter": "python",
   "pygments_lexer": "ipython3",
   "version": "3.9.10"
  },
  "orig_nbformat": 4,
  "vscode": {
   "interpreter": {
    "hash": "10527f4c6cc3e19e16375b6ca6083c24e0edf53abb986d7a3bcdb7b62fdb9492"
   }
  }
 },
 "nbformat": 4,
 "nbformat_minor": 2
}
